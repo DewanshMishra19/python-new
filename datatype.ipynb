{
 "cells": [
  {
   "cell_type": "markdown",
   "metadata": {},
   "source": [
    "# Type"
   ]
  },
  {
   "cell_type": "code",
   "execution_count": 1,
   "metadata": {},
   "outputs": [
    {
     "name": "stdout",
     "output_type": "stream",
     "text": [
      "5\n",
      "<class 'int'>\n",
      "<class 'str'>\n",
      "<class 'dict'>\n",
      "{'Name': 'Dewansh', 'Age': 22}\n"
     ]
    }
   ],
   "source": [
    "x=5\n",
    "print(x)\n",
    "\n",
    "x=6\n",
    "print(type(x))\n",
    "\n",
    "y=\"hello world\"\n",
    "print(type(y))\n",
    "\n",
    "d={\"Name\":\"Dewansh\", \"Age\":22}\n",
    "print(type(d))\n",
    "print(d)\n"
   ]
  },
  {
   "cell_type": "markdown",
   "metadata": {},
   "source": [
    "# List"
   ]
  },
  {
   "cell_type": "code",
   "execution_count": 6,
   "metadata": {},
   "outputs": [
    {
     "name": "stdout",
     "output_type": "stream",
     "text": [
      "<class 'list'>\n",
      "[1, 2, 3, 4, 5, 5]\n",
      "[1, 3, 4, 5, 5]\n",
      "[6, 3, 4, 5, 5]\n",
      "0 is in my_list\n",
      "<class 'int'>\n",
      "not eligible for vote\n",
      "<class 'bool'>\n",
      "False\n",
      "[8, 3, 4, 5, 5]\n"
     ]
    }
   ],
   "source": [
    "my_list=[1,2,3,4,5]\n",
    "print(type(my_list))\n",
    "\n",
    "my_list.append(5)\n",
    "print(my_list)\n",
    "\n",
    "my_list.remove(2)\n",
    "print(my_list)\n",
    "\n",
    "my_list[0]=6\n",
    "print(my_list)\n",
    "\n",
    "if 4 in my_list:print(\"4 is in my_list\")\n",
    "\n",
    "z=3.76\n",
    "z1=int(z)\n",
    "print(type(z1))\n",
    "\n",
    "age=16\n",
    "if(age>=18):\n",
    "    print(\"eligible for vote\")\n",
    "else:\n",
    "    print(\"not eligible for vote\")\n",
    "\n",
    "a=6\n",
    "b=8\n",
    "c=a>b\n",
    "print(type(c))\n",
    "print(c)\n",
    "\n",
    "\n",
    "my_list[0]=8\n",
    "print(my_list)"
   ]
  },
  {
   "cell_type": "markdown",
   "metadata": {},
   "source": [
    "# List"
   ]
  },
  {
   "cell_type": "code",
   "execution_count": 7,
   "metadata": {},
   "outputs": [
    {
     "name": "stdout",
     "output_type": "stream",
     "text": [
      "<class 'list'>\n",
      "[2, 3, 3, 4, 5, 6, 7, 8, 'Dewansh', False]\n",
      "[2, 3, 3, 4, 5, 6, 7, 8, 'Dewansh', False, 99]\n",
      "[2, 3, 4, 5, 6, 7, 8, 'Dewansh', False, 99]\n",
      "4\n",
      "7\n",
      "Dewansh\n",
      "True\n",
      "True\n",
      "[2, 3, 4, 5, 6, 7, 8, 'Dewansh', False, 99]\n",
      "[3, 4, 5, 6, 7, 8, 'Dewansh', False]\n",
      "[3, 5, 7]\n"
     ]
    }
   ],
   "source": [
    "simple_list=[2,3,3,4,5,6,7,8,\"Dewansh\",False]\n",
    "print(type(simple_list))\n",
    "print(simple_list)\n",
    "\n",
    "simple_list.append(99)             # here we will not use more than two values and add in the list\n",
    "print(simple_list)\n",
    "\n",
    "simple_list.remove(3)              # here we will not use more than two values\n",
    "print(simple_list)\n",
    "\n",
    "print(simple_list[2])\n",
    "print(simple_list[5])\n",
    "print(simple_list[-3])       # important point\n",
    "# print(simple_list[9])\n",
    "\n",
    "if \"Dewansh\" in simple_list:print(True)     \n",
    "if False in simple_list:\n",
    " print(\"True\")    \n",
    "else:\n",
    "    print(\"False\")      \n",
    "    \n",
    "    if \"ansh\" in \"Dewansh\":         #important\n",
    "        print(\"yes\")\n",
    "    else:\n",
    "        print(\"no\")  \n",
    "\n",
    "\n",
    "print(simple_list[:])       #important\n",
    "print(simple_list[1:-1])\n",
    "print(simple_list[1:7:2])    #jumped\n",
    "\n",
    "\n",
    "\n"
   ]
  },
  {
   "cell_type": "markdown",
   "metadata": {},
   "source": [
    "# SET"
   ]
  },
  {
   "cell_type": "code",
   "execution_count": 5,
   "metadata": {},
   "outputs": [
    {
     "name": "stdout",
     "output_type": "stream",
     "text": [
      "{1, 2, 3, 4, 5, 8, 9}\n",
      "{1, 2, 3, 4, 8, 9}\n",
      "it is present\n"
     ]
    }
   ],
   "source": [
    "mySet={2,3,4,5,1,4,8}\n",
    "\n",
    "mySet.add(9)\n",
    "print(mySet)\n",
    "\n",
    "mySet.remove(5)\n",
    "print(mySet)\n",
    "\n",
    "if 2 in mySet:\n",
    "    print(\"it is present\")"
   ]
  },
  {
   "cell_type": "markdown",
   "metadata": {},
   "source": [
    "# Dictionary"
   ]
  },
  {
   "cell_type": "code",
   "execution_count": 6,
   "metadata": {},
   "outputs": [
    {
     "name": "stdout",
     "output_type": "stream",
     "text": [
      "{'name': 'Dewansh', 'age': 22, 'gender': 'female'}\n",
      "{'name': 'Dewansh', 'age': 22, 'gender': 'female', 'occupation': 'Data Analytics'}\n",
      "{'name': 'Dewansh', 'age': 22, 'gender': 'female', 'occupation': 'Data Analytics', 'schooling': 'LPS'}\n",
      "{'name': 'Dewansh', 'gender': 'female', 'occupation': 'Data Analytics', 'schooling': 'LPS'}\n",
      "is in myDisctionary\n"
     ]
    }
   ],
   "source": [
    "myDisctionary={\"name\":\"Dewansh\", \"age\":22,\"gender\":\"female\"}\n",
    "print(myDisctionary)\n",
    "\n",
    "myDisctionary['occupation']='Data Analytics'\n",
    "print(myDisctionary)\n",
    "\n",
    "myDisctionary['schooling']='LPS'    # for adding something\n",
    "print(myDisctionary)\n",
    "\n",
    "\n",
    "del myDisctionary['age']   #for deleting the variable\n",
    "print(myDisctionary)\n",
    "\n",
    "if'name' in myDisctionary:\n",
    "    print(\"is in myDisctionary\")"
   ]
  },
  {
   "cell_type": "markdown",
   "metadata": {},
   "source": [
    "# Homework of Set and Dictionary"
   ]
  },
  {
   "cell_type": "code",
   "execution_count": 7,
   "metadata": {},
   "outputs": [
    {
     "name": "stdout",
     "output_type": "stream",
     "text": [
      "<class 'set'>\n",
      "{False, 1, 2, 3, 4, 5.99, 6.01, 7, 'hello', 'Yes', 'give_someting'}\n",
      "<class 'set'>\n",
      "False\n",
      "1\n",
      "2\n",
      "3\n",
      "4\n",
      "5.99\n",
      "6.01\n",
      "7\n",
      "hello\n",
      "Yes\n",
      "give_someting\n",
      "{1, 2, 3, 36, 5, 7, 8, 44, 31}\n",
      "{3, 7}\n",
      "{3, 36, 5, 7, 8} {1, 2, 3, 36, 5, 7, 8, 44, 31}\n",
      "{'delhi', 'mumbai', 'canberra', 'berminghum', 'chicago', 'new york', 'chennai', 'paris', 'rewa', 'kolkata', 'tokyo', 'lucknow'}\n",
      "True\n",
      "{'human being': 'Dewansh', 'gender': 'male', 'roll number': 19, 'religion': 'hindu', 'category': 'general'}\n"
     ]
    }
   ],
   "source": [
    "myDisctionary1={\"hello\",1,2,3,4,5.99,6.01,7,\"Yes\",\"give_someting\",False, }\n",
    "print(type(myDisctionary1))\n",
    "print(myDisctionary1)\n",
    "\n",
    "harry=set()           #important\n",
    "print(type(harry))\n",
    "\n",
    "for value in myDisctionary1:         #important\n",
    "    print(value)\n",
    "    \n",
    "    \n",
    "s1={1,2,3,7,31,44}            # intersection and union\n",
    "s2={36,5,3,7,8}\n",
    "print(s1.union(s2))\n",
    "print(s1.intersection(s2))\n",
    "s1.update(s2)\n",
    "print(s2, s1)\n",
    "\n",
    "\n",
    "cities1={\"delhi\",\"mumbai\",\"lucknow\",\"kolkata\",\"chennai\",\"rewa\"}\n",
    "cities2={\"chicago\",\"berminghum\",\"canberra\",\"paris\",\"tokyo\",\"new york\"}\n",
    "cities3=cities1.union(cities2)\n",
    "print(cities3)\n",
    "print(cities1.isdisjoint(cities2))     #no sets are common between them\n",
    "\n",
    "\n",
    "\n",
    "\n",
    "myDisctionary2={\"human being\":\"Dewansh\", \"gender\":\"male\",\"roll number\":19,\"religion\":\"hindu\",\"category\":\"general\"}\n",
    "print(myDisctionary2)"
   ]
  },
  {
   "cell_type": "markdown",
   "metadata": {},
   "source": []
  },
  {
   "cell_type": "code",
   "execution_count": 5,
   "metadata": {},
   "outputs": [
    {
     "name": "stdout",
     "output_type": "stream",
     "text": [
      "1\n",
      "1\n",
      "2\n",
      "3\n",
      "5\n",
      "8\n",
      "13\n",
      "21\n",
      "34\n",
      "55\n",
      "89\n",
      "144\n",
      "233\n",
      "377\n",
      "610\n"
     ]
    }
   ],
   "source": [
    "#fabinaco series 1,1,2,3,5,8,13,...... till 15 terms\n",
    "\n",
    "a=1\n",
    "b=1\n",
    "i=2\n",
    "num=15\n",
    "print(a)\n",
    "print(b)\n",
    "while(i<num):\n",
    "    na=a+b\n",
    "    print(na)\n",
    "    a=b\n",
    "    b=na\n",
    "    i+=1"
   ]
  },
  {
   "cell_type": "code",
   "execution_count": 5,
   "metadata": {},
   "outputs": [
    {
     "name": "stdout",
     "output_type": "stream",
     "text": [
      "153 number is armstrong\n"
     ]
    }
   ],
   "source": [
    "num=int(input(\"Enter a number \"))\n",
    "sum=0\n",
    "i=num\n",
    "while(i>0):\n",
    "    digit=i%10\n",
    "    sum=sum+digit**3\n",
    "    i=i//10\n",
    "if(num==sum):\n",
    "      print(num,\"number is armstrong\")\n",
    "else:\n",
    "      print(\"number is not armstrong\")"
   ]
  }
 ],
 "metadata": {
  "kernelspec": {
   "display_name": "Python 3",
   "language": "python",
   "name": "python3"
  },
  "language_info": {
   "codemirror_mode": {
    "name": "ipython",
    "version": 3
   },
   "file_extension": ".py",
   "mimetype": "text/x-python",
   "name": "python",
   "nbconvert_exporter": "python",
   "pygments_lexer": "ipython3",
   "version": "3.12.0"
  }
 },
 "nbformat": 4,
 "nbformat_minor": 2
}
