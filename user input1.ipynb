{
 "cells": [
  {
   "cell_type": "code",
   "execution_count": 1,
   "metadata": {},
   "outputs": [
    {
     "name": "stdout",
     "output_type": "stream",
     "text": [
      "name of my school is Lps\n"
     ]
    }
   ],
   "source": [
    "school=input('enter a name of your school')\n",
    "#print('school name is '+'LPS')\n",
    "print('name of my school is '+ school)"
   ]
  },
  {
   "cell_type": "code",
   "execution_count": 2,
   "metadata": {},
   "outputs": [
    {
     "name": "stdout",
     "output_type": "stream",
     "text": [
      "14\n"
     ]
    }
   ],
   "source": [
    "#casting\n",
    "num1=input(\"enter the first number\")\n",
    "num1=int(num1)\n",
    "num2=input(\"enter the second number\")\n",
    "num2=int(num2)\n",
    "sum=(num1+num2)\n",
    "print(sum)"
   ]
  },
  {
   "cell_type": "code",
   "execution_count": 3,
   "metadata": {},
   "outputs": [
    {
     "name": "stdout",
     "output_type": "stream",
     "text": [
      "2.347\n"
     ]
    }
   ],
   "source": [
    "z= 2.347\n",
    "z1=int(z)\n",
    "type(z)\n",
    "type(z1)\n",
    "print(z)"
   ]
  },
  {
   "cell_type": "code",
   "execution_count": 4,
   "metadata": {},
   "outputs": [
    {
     "name": "stdout",
     "output_type": "stream",
     "text": [
      "my age is 66\n"
     ]
    }
   ],
   "source": [
    "age=input(\"enter your age\")\n",
    "print(\"my age is \"+ age)"
   ]
  },
  {
   "cell_type": "code",
   "execution_count": 5,
   "metadata": {},
   "outputs": [
    {
     "name": "stdout",
     "output_type": "stream",
     "text": [
      "95\n"
     ]
    }
   ],
   "source": [
    "#homework\n",
    "marks1=input(\"enter your first subject marks\")\n",
    "m1=int(marks1)\n",
    "marks2=input(\"enter your second subject marks\")\n",
    "m2=int(marks2)\n",
    "marks3=input(\"enter your third subject marks\")\n",
    "m3=int(marks3)\n",
    "total_marks=(m1+m2+m3)\n",
    "avg=total_marks/3\n",
    "avg1=int(avg)\n",
    "print(avg1)"
   ]
  },
  {
   "cell_type": "code",
   "execution_count": 6,
   "metadata": {},
   "outputs": [
    {
     "name": "stdout",
     "output_type": "stream",
     "text": [
      "my name is dewansh\n",
      "my age is 22\n",
      "my school name is LPs\n"
     ]
    }
   ],
   "source": [
    "#homework\n",
    "name=input(\"enter your name\")\n",
    "age =input(\"enter your age\")\n",
    "school=input(\"enter your school\")\n",
    "print(\"my name is \"+name )\n",
    "print(\"my age is \"+age)\n",
    "print(\"my school name is \"+ school)"
   ]
  },
  {
   "cell_type": "code",
   "execution_count": 7,
   "metadata": {},
   "outputs": [
    {
     "name": "stdout",
     "output_type": "stream",
     "text": [
      "eligible for vote\n",
      "end\n"
     ]
    }
   ],
   "source": [
    "#Example\n",
    "age=int(input(\"enter your age\"))\n",
    "if(age>=18):\n",
    "    print(\"eligible for vote\")\n",
    "print(\"end\")"
   ]
  },
  {
   "cell_type": "markdown",
   "metadata": {},
   "source": [
    "# if Else"
   ]
  },
  {
   "cell_type": "code",
   "execution_count": null,
   "metadata": {},
   "outputs": [],
   "source": []
  },
  {
   "cell_type": "markdown",
   "metadata": {},
   "source": [
    "# ASSIGNMENT PROBLEM CONDITIONAL STATEMENT"
   ]
  },
  {
   "cell_type": "code",
   "execution_count": 8,
   "metadata": {},
   "outputs": [
    {
     "name": "stdout",
     "output_type": "stream",
     "text": [
      "number is positive\n"
     ]
    }
   ],
   "source": [
    "# question 1 for postive number or negative number\n",
    "num=float(input(\"Enter a number\"))\n",
    "if(num>0):\n",
    "    print(\"number is positive\")\n",
    "elif(num<0):\n",
    "    print(\"number is negative\")\n",
    "else:\n",
    "    print(\"The number is neither positive nor negative\")     "
   ]
  },
  {
   "cell_type": "code",
   "execution_count": 9,
   "metadata": {},
   "outputs": [
    {
     "name": "stdout",
     "output_type": "stream",
     "text": [
      "A number is odd\n"
     ]
    }
   ],
   "source": [
    "# question 2 for a number is odd or even\n",
    "\n",
    "num=int(input(\"Enter a number\"))\n",
    "if(num%2==0):\n",
    "    print(\" A number is even\")\n",
    "else:\n",
    "    print(\"A number is odd\")\n"
   ]
  },
  {
   "cell_type": "code",
   "execution_count": 10,
   "metadata": {},
   "outputs": [
    {
     "name": "stdout",
     "output_type": "stream",
     "text": [
      " A year is not leap year\n"
     ]
    }
   ],
   "source": [
    "# Question 3 for a yesr is leap year or not\n",
    "\n",
    "year=int(input(\"Enter a year\"))\n",
    "if(year%4==0):\n",
    "    print(\" A year is leap year\")\n",
    "else:\n",
    "    print(\" A year is not leap year\")"
   ]
  },
  {
   "cell_type": "code",
   "execution_count": 11,
   "metadata": {},
   "outputs": [
    {
     "name": "stdout",
     "output_type": "stream",
     "text": [
      "The greatest number is third\n"
     ]
    }
   ],
   "source": [
    "# Question 4\n",
    "num1=int(input(\"enter a first number\"))\n",
    "num2=int(input(\"enter a second number\"))\n",
    "num3=int(input(\"enter a third number\"))\n",
    "if(num1>num2 and num1>num3):\n",
    "    print(\"First number is the greatest\")\n",
    "elif(num2>num1 and num2>num3):\n",
    "    print(\"the greatest number is second\")\n",
    "else:\n",
    "    print(\"The greatest number is third\")\n",
    "    "
   ]
  },
  {
   "cell_type": "code",
   "execution_count": 12,
   "metadata": {},
   "outputs": [
    {
     "name": "stdout",
     "output_type": "stream",
     "text": [
      "It is a vowel\n"
     ]
    }
   ],
   "source": [
    "# Question6 \n",
    "char=input(\"Enter a alphabet\")\n",
    "if(char==\"a\"):\n",
    "    print(\"It is a vowel\")\n",
    "elif(char==\"e\"):\n",
    "    print(\"It is vowel\")\n",
    "elif(char==\"i\"):\n",
    "    print(\"It is a vowel\")\n",
    "elif(char==\"o\"):\n",
    "    print(\"It is a vowel\")\n",
    "elif(char==\"u\"):\n",
    "    print(\"It is a vowel\")\n",
    "else:\n",
    "    print(\"It is not a vowel\")"
   ]
  },
  {
   "cell_type": "code",
   "execution_count": null,
   "metadata": {},
   "outputs": [
    {
     "name": "stdout",
     "output_type": "stream",
     "text": [
      "Not palindrome\n"
     ]
    }
   ],
   "source": [
    "# palindrome number\n",
    "\n",
    "\n",
    "num=int(input(\"Enter a number\"))\n",
    "rev=0\n",
    "while(num!=0):\n",
    "    i=num%10\n",
    "    rev=rev*10+i\n",
    "    num=num//10\n",
    "if (rev==num):        \n",
    "  print(\"Palindrome number\")\n",
    "else:\n",
    "  print(\"Not palindrome\")"
   ]
  },
  {
   "cell_type": "code",
   "execution_count": 15,
   "metadata": {},
   "outputs": [
    {
     "name": "stdout",
     "output_type": "stream",
     "text": [
      "factorial= 120\n"
     ]
    }
   ],
   "source": [
    "# Question 8\n",
    "\n",
    "n=int(input(\"Enter a number\"))\n",
    "fact=1\n",
    "i=1\n",
    "while i<=n:\n",
    "    fact*=i\n",
    "    i+=1\n",
    "    \n",
    "print(\"factorial=\",fact )\n",
    "    "
   ]
  },
  {
   "cell_type": "code",
   "execution_count": 16,
   "metadata": {},
   "outputs": [
    {
     "name": "stdout",
     "output_type": "stream",
     "text": [
      "factorial= 120\n"
     ]
    }
   ],
   "source": [
    "# using for loop\n",
    "\n",
    "n=5\n",
    "fact=1\n",
    "for i in range(1,n+1):\n",
    "    fact*=i\n",
    "print(\"factorial=\",fact)"
   ]
  },
  {
   "cell_type": "code",
   "execution_count": 17,
   "metadata": {},
   "outputs": [
    {
     "name": "stdout",
     "output_type": "stream",
     "text": [
      "C\n"
     ]
    }
   ],
   "source": [
    "# test\n",
    "\n",
    "perc=float(input(\"Enter a percentage\"))\n",
    "if(perc>90):\n",
    "    print(\"A\")\n",
    "elif(perc<=90 and perc>80):\n",
    "    print(\"B\")\n",
    "elif(perc<=80 and perc>70):\n",
    "    print(\"C\")\n",
    "elif(perc<=70 and perc>60):\n",
    "    print(\"D\")\n",
    "else:\n",
    "    print(\"E\")\n",
    "    "
   ]
  },
  {
   "cell_type": "code",
   "execution_count": 18,
   "metadata": {},
   "outputs": [
    {
     "name": "stdout",
     "output_type": "stream",
     "text": [
      "thursday\n"
     ]
    }
   ],
   "source": [
    "\n",
    "day=int(input(\"Emter a number\"))\n",
    "if(day==1):\n",
    "    print(\"sunday\")\n",
    "elif(day==2):\n",
    "    print(\"monday\")\n",
    "elif(day==3):\n",
    "    print(\"tuesday\")\n",
    "elif(day==4):\n",
    "    print(\"wednesday\")\n",
    "elif(day==5):\n",
    "    print(\"thursday\")\n",
    "elif(day==6):\n",
    "    print(\"friday\")\n",
    "elif(day==7):\n",
    "    print(\"saturday\")\n",
    "else:\n",
    "    print(\"not a day\")"
   ]
  },
  {
   "cell_type": "markdown",
   "metadata": {},
   "source": [
    "# loop for"
   ]
  },
  {
   "cell_type": "code",
   "execution_count": 19,
   "metadata": {},
   "outputs": [
    {
     "name": "stdout",
     "output_type": "stream",
     "text": [
      "b\n",
      "a\n",
      "n\n",
      "a\n",
      "n\n",
      "a\n"
     ]
    }
   ],
   "source": [
    "for x in \"banana\":\n",
    "    print(x)"
   ]
  },
  {
   "cell_type": "code",
   "execution_count": 20,
   "metadata": {},
   "outputs": [
    {
     "name": "stdout",
     "output_type": "stream",
     "text": [
      "p\n",
      "y\n",
      "t\n",
      "h\n",
      "o\n",
      "n\n"
     ]
    }
   ],
   "source": [
    "x=\"python\"\n",
    "for i in x:\n",
    "    print(i)"
   ]
  },
  {
   "cell_type": "code",
   "execution_count": 21,
   "metadata": {},
   "outputs": [
    {
     "name": "stdout",
     "output_type": "stream",
     "text": [
      "['apple', 'banana', 'mango', 'strawberry']\n",
      "['apple', 'banana', 'mango', 'strawberry']\n",
      "['apple', 'banana', 'mango', 'strawberry']\n",
      "['apple', 'banana', 'mango', 'strawberry']\n"
     ]
    }
   ],
   "source": [
    "fruits=[\"apple\",\"banana\",\"mango\",\"strawberry\"]\n",
    "for i in fruits:\n",
    "    print(fruits)\n"
   ]
  },
  {
   "cell_type": "code",
   "execution_count": 22,
   "metadata": {},
   "outputs": [
    {
     "name": "stdout",
     "output_type": "stream",
     "text": [
      "(1, 2, 3, 4, 6)\n",
      "1\n",
      "(1, 2, 3, 4, 6)\n",
      "2\n",
      "(1, 2, 3, 4, 6)\n",
      "3\n",
      "(1, 2, 3, 4, 6)\n",
      "4\n",
      "(1, 2, 3, 4, 6)\n",
      "6\n"
     ]
    }
   ],
   "source": [
    "tup=(1,2,3,4,6)\n",
    "for i in tup:\n",
    "  print(tup)\n",
    "  print(i)\n",
    "  "
   ]
  },
  {
   "cell_type": "code",
   "execution_count": 23,
   "metadata": {},
   "outputs": [
    {
     "name": "stdout",
     "output_type": "stream",
     "text": [
      " my roll no. is 1\n",
      " my roll no. is 2\n",
      " my roll no. is 3\n",
      " my roll no. is 4\n",
      " my roll no. is 5\n",
      " my roll no. is 5\n",
      " my roll no. is 6\n",
      " my roll no. is 7\n"
     ]
    }
   ],
   "source": [
    "roll_no=[1,2,3,4,5,5,6,7]\n",
    "for i in roll_no:\n",
    "    print(f\" my roll no. is {i}\")"
   ]
  },
  {
   "cell_type": "code",
   "execution_count": 24,
   "metadata": {},
   "outputs": [
    {
     "name": "stdout",
     "output_type": "stream",
     "text": [
      "\n",
      "d\n",
      "dd\n",
      "ddd\n",
      "dddd\n",
      "ddddd\n",
      "dddddd\n",
      "ddddddd\n",
      "dddddddd\n",
      "ddddddddd\n"
     ]
    }
   ],
   "source": [
    "for i in range(10):\n",
    "    print(i*'d')\n",
    "    "
   ]
  },
  {
   "cell_type": "code",
   "execution_count": 25,
   "metadata": {},
   "outputs": [
    {
     "name": "stdout",
     "output_type": "stream",
     "text": [
      "1\n",
      "11\n",
      "111\n",
      "1111\n",
      "11111\n",
      "111111\n",
      "1111111\n",
      "11111111\n",
      "111111111\n"
     ]
    }
   ],
   "source": [
    "for i in range(1,10):\n",
    "    print(i*'1')\n",
    "    "
   ]
  },
  {
   "cell_type": "markdown",
   "metadata": {},
   "source": [
    "# program questions using loop"
   ]
  },
  {
   "cell_type": "code",
   "execution_count": 26,
   "metadata": {},
   "outputs": [
    {
     "name": "stdout",
     "output_type": "stream",
     "text": [
      "1\n",
      "2\n",
      "3\n",
      "4\n",
      "5\n",
      "6\n",
      "7\n",
      "8\n",
      "9\n",
      "10\n"
     ]
    }
   ],
   "source": [
    "# WAP to print numbers from 1 to 10\n",
    "\n",
    "i=1\n",
    "while i<=10:\n",
    "    \n",
    "    print(i)\n",
    "    i+=1"
   ]
  },
  {
   "cell_type": "code",
   "execution_count": null,
   "metadata": {},
   "outputs": [],
   "source": []
  },
  {
   "cell_type": "code",
   "execution_count": 27,
   "metadata": {},
   "outputs": [
    {
     "name": "stdout",
     "output_type": "stream",
     "text": [
      "0\n",
      "2\n",
      "4\n",
      "6\n",
      "8\n",
      "10\n",
      "12\n",
      "14\n",
      "16\n",
      "18\n",
      "20\n",
      "22\n",
      "24\n",
      "26\n",
      "28\n",
      "30\n",
      "32\n",
      "34\n",
      "36\n",
      "38\n",
      "40\n",
      "42\n",
      "44\n",
      "46\n",
      "48\n",
      "50\n",
      "52\n",
      "54\n",
      "56\n",
      "58\n",
      "60\n",
      "62\n",
      "64\n",
      "66\n",
      "68\n",
      "70\n",
      "72\n",
      "74\n",
      "76\n",
      "78\n",
      "80\n",
      "82\n",
      "84\n",
      "86\n",
      "88\n",
      "90\n",
      "92\n",
      "94\n",
      "96\n",
      "98\n",
      "100\n"
     ]
    }
   ],
   "source": [
    "# WAP to print even numbers upto 100\n",
    "\n",
    "i=0\n",
    "while i<=100:\n",
    "        print(i)\n",
    "        i+=2"
   ]
  },
  {
   "cell_type": "code",
   "execution_count": 28,
   "metadata": {},
   "outputs": [
    {
     "name": "stdout",
     "output_type": "stream",
     "text": [
      "9 x 1 = 9\n",
      "9 x 2 = 18\n",
      "9 x 3 = 27\n",
      "9 x 4 = 36\n",
      "9 x 5 = 45\n",
      "9 x 6 = 54\n",
      "9 x 7 = 63\n",
      "9 x 8 = 72\n",
      "9 x 9 = 81\n",
      "9 x 10 = 90\n"
     ]
    }
   ],
   "source": [
    "# WAP to print multiplication table of 9\n",
    "\n",
    "i=1\n",
    "while i<=10:\n",
    "    print(9,\"x\",i,\"=\",9*i)\n",
    "    i+=1"
   ]
  },
  {
   "cell_type": "markdown",
   "metadata": {},
   "source": [
    "# For loop"
   ]
  },
  {
   "cell_type": "code",
   "execution_count": 29,
   "metadata": {},
   "outputs": [
    {
     "name": "stdout",
     "output_type": "stream",
     "text": [
      "1\n",
      "4\n",
      "9\n",
      "16\n",
      "25\n",
      "36\n",
      "49\n",
      "64\n",
      "81\n",
      "100\n"
     ]
    }
   ],
   "source": [
    "for i in range(1,11,+1):\n",
    "    print(i*i)"
   ]
  },
  {
   "cell_type": "code",
   "execution_count": 30,
   "metadata": {},
   "outputs": [
    {
     "name": "stdout",
     "output_type": "stream",
     "text": [
      "0\n",
      "2\n",
      "4\n",
      "6\n",
      "8\n",
      "10\n",
      "12\n",
      "14\n",
      "16\n",
      "18\n",
      "20\n",
      "22\n",
      "24\n",
      "26\n",
      "28\n",
      "30\n",
      "32\n",
      "34\n",
      "36\n",
      "38\n",
      "40\n",
      "42\n",
      "44\n",
      "46\n",
      "48\n",
      "50\n",
      "52\n",
      "54\n",
      "56\n",
      "58\n",
      "60\n",
      "62\n",
      "64\n",
      "66\n",
      "68\n",
      "70\n",
      "72\n",
      "74\n",
      "76\n",
      "78\n",
      "80\n",
      "82\n",
      "84\n",
      "86\n",
      "88\n",
      "90\n",
      "92\n",
      "94\n",
      "96\n",
      "98\n"
     ]
    }
   ],
   "source": [
    "for i in range(100):\n",
    "    if (i%2==0):\n",
    "        print(i)"
   ]
  },
  {
   "cell_type": "code",
   "execution_count": 31,
   "metadata": {},
   "outputs": [
    {
     "name": "stdout",
     "output_type": "stream",
     "text": [
      "9 * 1 = 9\n",
      "9 * 2 = 18\n",
      "9 * 3 = 27\n",
      "9 * 4 = 36\n",
      "9 * 5 = 45\n",
      "9 * 6 = 54\n",
      "9 * 7 = 63\n",
      "9 * 8 = 72\n",
      "9 * 9 = 81\n",
      "9 * 10 = 90\n"
     ]
    }
   ],
   "source": [
    "a=9\n",
    "for i in range(1,11):\n",
    "    print(a,\"*\",i,\"=\",a*i)"
   ]
  },
  {
   "cell_type": "code",
   "execution_count": 32,
   "metadata": {},
   "outputs": [
    {
     "name": "stdout",
     "output_type": "stream",
     "text": [
      "Total count is 2\n"
     ]
    }
   ],
   "source": [
    "# WAP to count the total number of digits in the number\n",
    "\n",
    "num=int(input(\"Enter a number\"))             \n",
    "count=0\n",
    "r=0\n",
    "while(num!=0):\n",
    "    r=num%10\n",
    "    count=count+1\n",
    "    num=num//10\n",
    "print(\"Total count is\", count)"
   ]
  },
  {
   "cell_type": "code",
   "execution_count": 33,
   "metadata": {},
   "outputs": [
    {
     "name": "stdout",
     "output_type": "stream",
     "text": [
      "14 * 1 = 14\n",
      "14 * 2 = 28\n",
      "14 * 3 = 42\n",
      "14 * 4 = 56\n",
      "14 * 5 = 70\n",
      "14 * 6 = 84\n",
      "14 * 7 = 98\n",
      "14 * 8 = 112\n",
      "14 * 9 = 126\n",
      "14 * 10 = 140\n"
     ]
    }
   ],
   "source": [
    "for i in range(1,11):\n",
    "    print(14,\"*\",i,\"=\",14*i)\n",
    "    "
   ]
  },
  {
   "cell_type": "code",
   "execution_count": 34,
   "metadata": {},
   "outputs": [
    {
     "name": "stdout",
     "output_type": "stream",
     "text": [
      "the sum is 55\n"
     ]
    }
   ],
   "source": [
    "# sum of the n=10 natural number\n",
    "\n",
    "n=10\n",
    "sum=0\n",
    "i=0\n",
    "while i<=n:\n",
    "    sum=sum+i\n",
    "    i+=1\n",
    "print(\"the sum is\",sum)"
   ]
  },
  {
   "cell_type": "code",
   "execution_count": 35,
   "metadata": {},
   "outputs": [
    {
     "name": "stdout",
     "output_type": "stream",
     "text": [
      "0\n",
      "1\n",
      "2\n",
      "3\n",
      "4\n"
     ]
    }
   ],
   "source": [
    "for i in range(10):\n",
    "    if(i==5):\n",
    "        break\n",
    "    print(i)"
   ]
  },
  {
   "cell_type": "code",
   "execution_count": 36,
   "metadata": {},
   "outputs": [
    {
     "name": "stdout",
     "output_type": "stream",
     "text": [
      "1\n",
      "3\n",
      "5\n",
      "7\n",
      "9\n"
     ]
    }
   ],
   "source": [
    "for i in range(10):\n",
    "    if(i%2==0):\n",
    "        continue\n",
    "    print(i)"
   ]
  },
  {
   "cell_type": "code",
   "execution_count": 37,
   "metadata": {},
   "outputs": [
    {
     "name": "stdout",
     "output_type": "stream",
     "text": [
      "0\n",
      "1\n",
      "2\n",
      "3\n",
      "4\n"
     ]
    }
   ],
   "source": [
    "count=0\n",
    "while count<=100:\n",
    "    print(count)\n",
    "    count+=1\n",
    "    if count==5:\n",
    "        break"
   ]
  },
  {
   "cell_type": "code",
   "execution_count": 38,
   "metadata": {},
   "outputs": [
    {
     "name": "stdout",
     "output_type": "stream",
     "text": [
      "0\n",
      "1\n",
      "2\n",
      "4\n"
     ]
    }
   ],
   "source": [
    "for i in range(0,5):\n",
    "    if i==3:\n",
    "        continue\n",
    "    print(i)"
   ]
  },
  {
   "cell_type": "code",
   "execution_count": 39,
   "metadata": {},
   "outputs": [
    {
     "name": "stdout",
     "output_type": "stream",
     "text": [
      "1 = 1\n",
      "2 = 4\n",
      "3 = 9\n",
      "4 = 16\n",
      "5 = 25\n",
      "6 = 36\n",
      "7 = 49\n",
      "8 = 64\n",
      "9 = 81\n",
      "10 = 100\n"
     ]
    }
   ],
   "source": [
    "# write a program to print first 10 integers and thier square using while loop\n",
    "\n",
    "i=1\n",
    "while i<=10:\n",
    "    print(i,\"=\",i*i)\n",
    "    i+=1"
   ]
  },
  {
   "cell_type": "code",
   "execution_count": null,
   "metadata": {},
   "outputs": [
    {
     "name": "stdout",
     "output_type": "stream",
     "text": [
      "1 = 1\n",
      "2 = 4\n",
      "3 = 9\n",
      "4 = 16\n",
      "5 = 25\n",
      "6 = 36\n",
      "7 = 49\n",
      "8 = 64\n",
      "9 = 81\n"
     ]
    }
   ],
   "source": [
    "for i in range(1,10):\n",
    "    print(i,\"=\",i**2)"
   ]
  },
  {
   "cell_type": "code",
   "execution_count": 40,
   "metadata": {},
   "outputs": [
    {
     "name": "stdout",
     "output_type": "stream",
     "text": [
      "105\n",
      "98\n",
      "91\n",
      "84\n",
      "77\n",
      "70\n",
      "63\n",
      "56\n",
      "49\n",
      "42\n",
      "35\n",
      "28\n",
      "21\n",
      "14\n",
      "7\n"
     ]
    }
   ],
   "source": [
    "# write a while loop to print a following series\n",
    "#105,98,91,.....7\n",
    "\n",
    "i=105\n",
    "while i>=7:\n",
    "    print(i)\n",
    "    i-=7"
   ]
  },
  {
   "cell_type": "code",
   "execution_count": 41,
   "metadata": {},
   "outputs": [
    {
     "name": "stdout",
     "output_type": "stream",
     "text": [
      "105\n",
      "98\n",
      "91\n",
      "84\n",
      "77\n",
      "70\n",
      "63\n",
      "56\n",
      "49\n",
      "42\n",
      "35\n",
      "28\n",
      "21\n",
      "14\n"
     ]
    }
   ],
   "source": [
    "for i in range(105,7,-7):\n",
    "    print(i)"
   ]
  },
  {
   "cell_type": "code",
   "execution_count": 44,
   "metadata": {},
   "outputs": [
    {
     "name": "stdout",
     "output_type": "stream",
     "text": [
      "product of the digits 25\n"
     ]
    }
   ],
   "source": [
    "#write a program to find a product of the digits of a number accepted from the user\n",
    "\n",
    "num=int(input(\"Enter a number\"))\n",
    "r=0\n",
    "p=1\n",
    "while num!=0:\n",
    "    r=num%10\n",
    "    p=p*r\n",
    "    num=num//10\n",
    "\n",
    "print(\"product of the digits\",p)"
   ]
  },
  {
   "cell_type": "code",
   "execution_count": 45,
   "metadata": {},
   "outputs": [
    {
     "name": "stdout",
     "output_type": "stream",
     "text": [
      "sum of the digits of numbe is 8\n"
     ]
    }
   ],
   "source": [
    "# Write a program to find sum of digits of a number entered by user\n",
    "\n",
    "num=int(input(\"Enter a number\"))\n",
    "r=0\n",
    "sum=0\n",
    "while(num!=0):\n",
    "    r=num%10\n",
    "    sum=sum+r\n",
    "    num=num//10\n",
    "print(\"sum of the digits of numbe is\",sum)"
   ]
  },
  {
   "cell_type": "code",
   "execution_count": 52,
   "metadata": {},
   "outputs": [
    {
     "name": "stdout",
     "output_type": "stream",
     "text": [
      "reverse is 55\n"
     ]
    }
   ],
   "source": [
    "#wap to print reverse the number entered by the user\n",
    "\n",
    "num=int(input(\"Enter a number\"))\n",
    "rev=0\n",
    "r=0\n",
    "while(num!=0):\n",
    "    r=num%10\n",
    "    rev=rev*10+r\n",
    "    num=num//10\n",
    "print (\"reverse is\",rev)"
   ]
  },
  {
   "cell_type": "code",
   "execution_count": null,
   "metadata": {},
   "outputs": [
    {
     "name": "stdout",
     "output_type": "stream",
     "text": [
      "factorial of number is 120\n"
     ]
    }
   ],
   "source": [
    "# wap to print factorial of the number\n",
    "\n",
    "num=int(input(\"Enter a number\"))\n",
    "fact=1\n",
    "r=1\n",
    "while(r<=num):\n",
    "    fact=fact*r\n",
    "    r=r+1\n",
    "print(\"factorial of number is\",fact)"
   ]
  },
  {
   "cell_type": "code",
   "execution_count": 51,
   "metadata": {},
   "outputs": [
    {
     "name": "stdout",
     "output_type": "stream",
     "text": [
      "1\n",
      "4\n",
      "9\n",
      "16\n",
      "25\n",
      "36\n",
      "49\n",
      "64\n",
      "81\n",
      "100\n"
     ]
    }
   ],
   "source": [
    "#series print  1,4,9,16,25....\n",
    "\n",
    "for i in range(1,11):\n",
    "    print(i*i)\n",
    "    "
   ]
  },
  {
   "cell_type": "code",
   "execution_count": 50,
   "metadata": {},
   "outputs": [
    {
     "name": "stdout",
     "output_type": "stream",
     "text": [
      "80000\n",
      "8000.0\n",
      "4000.0\n",
      "92000.0\n"
     ]
    }
   ],
   "source": [
    "# gross salary \n",
    "basic_pay=80000\n",
    "hra=(10/100)*80000\n",
    "da=(5/100)*80000\n",
    "gross_salary=(basic_pay+hra+da)\n",
    "print(basic_pay)\n",
    "print(hra)\n",
    "print(da)\n",
    "print(gross_salary)\n",
    "\n"
   ]
  },
  {
   "cell_type": "code",
   "execution_count": 49,
   "metadata": {},
   "outputs": [
    {
     "name": "stdout",
     "output_type": "stream",
     "text": [
      "153 number is armstrong\n"
     ]
    }
   ],
   "source": [
    "num=int(input(\"Enter a number \"))   #153 is armstrong\n",
    "sum=0\n",
    "i=num\n",
    "while(i>0):\n",
    "    digit=i%10\n",
    "    sum=sum+digit**3\n",
    "    i=i//10\n",
    "if(num==sum):\n",
    "      print(num,\"number is armstrong\")\n",
    "else:\n",
    "    print(\"number is not armstrong\")"
   ]
  },
  {
   "cell_type": "code",
   "execution_count": 47,
   "metadata": {},
   "outputs": [
    {
     "name": "stdout",
     "output_type": "stream",
     "text": [
      "1\n"
     ]
    }
   ],
   "source": [
    "\n",
    "a=1\n",
    "print(a)"
   ]
  },
  {
   "cell_type": "code",
   "execution_count": 46,
   "metadata": {},
   "outputs": [
    {
     "name": "stdout",
     "output_type": "stream",
     "text": [
      "0\n"
     ]
    }
   ],
   "source": [
    " #WAP to count the total number of digits in the number\n",
    " \n",
    "num=0\n",
    "count=0\n",
    "while(num>0):\n",
    "    num//=10\n",
    "    count+=1\n",
    "print(count)"
   ]
  },
  {
   "cell_type": "code",
   "execution_count": null,
   "metadata": {},
   "outputs": [],
   "source": [
    "# WAP to check whether number is prime or not\n",
    "num=int(input(\"Enter a number\"))\n",
    "k=0\n",
    "if num==0 or num==1:\n",
    "    print(\"not a prime number\")\n",
    "else:\n",
    "    i=2\n",
    "    while i<num:\n",
    "        if(num%i==0):\n",
    "            k+=1\n",
    "            i+=1\n",
    "        if(k==0):\n",
    "            print(\"not a prime number\")\n",
    "        else:\n",
    "            print(\"number is prime\")\n",
    "    "
   ]
  }
 ],
 "metadata": {
  "kernelspec": {
   "display_name": "Python 3",
   "language": "python",
   "name": "python3"
  },
  "language_info": {
   "codemirror_mode": {
    "name": "ipython",
    "version": 3
   },
   "file_extension": ".py",
   "mimetype": "text/x-python",
   "name": "python",
   "nbconvert_exporter": "python",
   "pygments_lexer": "ipython3",
   "version": "3.12.2"
  }
 },
 "nbformat": 4,
 "nbformat_minor": 2
}
