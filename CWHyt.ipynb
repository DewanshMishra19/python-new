{
 "cells": [
  {
   "cell_type": "code",
   "execution_count": 1,
   "metadata": {},
   "outputs": [
    {
     "name": "stdout",
     "output_type": "stream",
     "text": [
      "hello\n"
     ]
    }
   ],
   "source": [
    "\n",
    "print(\"hello\")"
   ]
  },
  {
   "cell_type": "code",
   "execution_count": 2,
   "metadata": {},
   "outputs": [
    {
     "name": "stdout",
     "output_type": "stream",
     "text": [
      "You can drive\n"
     ]
    }
   ],
   "source": [
    "age=int(input(\"Enter a your age\"))\n",
    "if age>=21:\n",
    "    print(\"You can drive\")\n",
    "else:\n",
    "    print(\"you can not drive\")"
   ]
  },
  {
   "cell_type": "code",
   "execution_count": 3,
   "metadata": {},
   "outputs": [
    {
     "name": "stdout",
     "output_type": "stream",
     "text": [
      "Please take 1 kg of an apple\n"
     ]
    }
   ],
   "source": [
    "appleprice=2000\n",
    "budget=3000\n",
    "if (budget-appleprice>50):\n",
    "    print(\"Please take 1 kg of an apple\")\n",
    "else:\n",
    "    print(\"do not buy one kg of an apple\")"
   ]
  },
  {
   "cell_type": "markdown",
   "metadata": {},
   "source": [
    "Nested if"
   ]
  },
  {
   "cell_type": "code",
   "execution_count": 4,
   "metadata": {},
   "outputs": [
    {
     "ename": "SyntaxError",
     "evalue": "incomplete input (4449351.py, line 6)",
     "output_type": "error",
     "traceback": [
      "\u001b[1;36m  Cell \u001b[1;32mIn[4], line 6\u001b[1;36m\u001b[0m\n\u001b[1;33m    \u001b[0m\n\u001b[1;37m    ^\u001b[0m\n\u001b[1;31mSyntaxError\u001b[0m\u001b[1;31m:\u001b[0m incomplete input\n"
     ]
    }
   ],
   "source": [
    "num=19\n",
    "if num<0:\n",
    "    print(\"Number is negative\")\n",
    "elif (num>0):\n",
    "    if(num<=14):\n",
    "        "
   ]
  },
  {
   "cell_type": "code",
   "execution_count": null,
   "metadata": {},
   "outputs": [
    {
     "name": "stdout",
     "output_type": "stream",
     "text": [
      "case is 4\n"
     ]
    }
   ],
   "source": [
    "x=int(input(\"Enter the value of x: \"))\n",
    "match x:\n",
    "    case 0:\n",
    "        print(\"x is zero\")\n",
    "    case 4:\n",
    "        print(\"case is 4\")\n",
    "    case _:\n",
    "        print(x)"
   ]
  },
  {
   "cell_type": "code",
   "execution_count": null,
   "metadata": {},
   "outputs": [
    {
     "name": "stdout",
     "output_type": "stream",
     "text": [
      "red\n",
      "r\n",
      "e\n",
      "d\n",
      "green\n",
      "g\n",
      "r\n",
      "e\n",
      "e\n",
      "n\n",
      "yellow\n",
      "y\n",
      "e\n",
      "l\n",
      "l\n",
      "o\n",
      "w\n",
      "pink\n",
      "p\n",
      "i\n",
      "n\n",
      "k\n",
      "blue\n",
      "b\n",
      "l\n",
      "u\n",
      "e\n"
     ]
    }
   ],
   "source": [
    "colors=[\"red\", \"green\", \"yellow\",\"pink\",\"blue\"]\n",
    "for color in colors:\n",
    "    print(color)\n",
    "    for i in color:\n",
    "        print(i)"
   ]
  },
  {
   "cell_type": "code",
   "execution_count": null,
   "metadata": {},
   "outputs": [
    {
     "name": "stdout",
     "output_type": "stream",
     "text": [
      "1 * 2\n",
      "2 * 2\n",
      "3 * 2\n",
      "4 * 2\n",
      "5 * 2\n",
      "6 * 2\n",
      "7 * 2\n",
      "8 * 2\n",
      "9 * 2\n"
     ]
    }
   ],
   "source": [
    "for i in range(1,10):\n",
    "    print(i,\"*\",2)"
   ]
  },
  {
   "cell_type": "code",
   "execution_count": null,
   "metadata": {},
   "outputs": [
    {
     "name": "stdout",
     "output_type": "stream",
     "text": [
      "5 x 1 = 1\n",
      "5 x 2 = 6\n",
      "5 x 3 = 11\n",
      "5 x 4 = 16\n",
      "5 x 5 = 21\n",
      "5 x 6 = 26\n",
      "5 x 7 = 31\n",
      "5 x 8 = 36\n",
      "5 x 9 = 41\n",
      "5 x 10 = 46\n",
      "5 x 11 = 51\n"
     ]
    }
   ],
   "source": [
    "for i in range(14):\n",
    "    print(\"5 x\",i+1, \"=\", 5*i+1)\n",
    "    if (i==10):\n",
    "        break"
   ]
  },
  {
   "cell_type": "markdown",
   "metadata": {},
   "source": [
    "#Functions"
   ]
  },
  {
   "cell_type": "code",
   "execution_count": null,
   "metadata": {},
   "outputs": [
    {
     "name": "stdout",
     "output_type": "stream",
     "text": [
      "Second is the greater\n",
      "2.2222222222222223\n",
      "First is the greater\n",
      "3.230769230769231\n"
     ]
    }
   ],
   "source": [
    "# video 20\n",
    "def calcGmean(a,b):\n",
    "    mean=(a*b)/(a+b)\n",
    "    print(mean)\n",
    "    \n",
    "def isGreater(a,b):\n",
    "   if a>b:\n",
    "      print(\"First is the greater\")\n",
    "   else:\n",
    "      print(\"Second is the greater\")\n",
    "a=4\n",
    "b=5\n",
    "isGreater(a,b)\n",
    "calcGmean(a,b)\n",
    "\n",
    "\n",
    "c=7\n",
    "d=6\n",
    "\n",
    "isGreater(c,d)\n",
    "calcGmean(c,d)\n"
   ]
  },
  {
   "cell_type": "code",
   "execution_count": null,
   "metadata": {},
   "outputs": [
    {
     "name": "stdout",
     "output_type": "stream",
     "text": [
      "the sverage of number is 6.0\n"
     ]
    }
   ],
   "source": [
    "#video 21\n",
    "\n",
    "def average():\n",
    "    print(\"the sverage of number is\",(a+b)/2)\n",
    "    \n",
    "a=5\n",
    "b=7\n",
    "average()"
   ]
  },
  {
   "cell_type": "code",
   "execution_count": null,
   "metadata": {},
   "outputs": [
    {
     "name": "stdout",
     "output_type": "stream",
     "text": [
      "The average is 9.0\n",
      "Hello, dew kumar Mishra\n"
     ]
    }
   ],
   "source": [
    "def average(a=9,b=1):\n",
    "    print(\"The average is\",(a+b)/2)\n",
    "    \n",
    "average(b=9)\n",
    "\n",
    "\n",
    "def name(fname,mname=\"Dewansh\",lname=\"Mishra\"):\n",
    "    print(\"Hello,\",fname,mname,lname)\n",
    "    \n",
    "name(\"dew\",\"kumar\")"
   ]
  },
  {
   "cell_type": "code",
   "execution_count": null,
   "metadata": {},
   "outputs": [
    {
     "name": "stdout",
     "output_type": "stream",
     "text": [
      "Average is: 7.0\n"
     ]
    }
   ],
   "source": [
    "def average(*numbers):\n",
    "    sum=0\n",
    "    for i in numbers:\n",
    "        sum=sum+i\n",
    "    print(\"Average is:\",sum/len(numbers))\n",
    "    \n",
    "average(7,9,4,6,7,9)"
   ]
  },
  {
   "cell_type": "code",
   "execution_count": null,
   "metadata": {},
   "outputs": [
    {
     "name": "stdout",
     "output_type": "stream",
     "text": [
      "hello, james bushan singh\n"
     ]
    }
   ],
   "source": [
    "def name (**name):\n",
    "    print(\"hello,\",name [\"fname\"],name[\"mname\"],name[\"lname\"])\n",
    "\n",
    "name(mname=\"bushan\",lname=\"singh\",fname=\"james\")"
   ]
  },
  {
   "cell_type": "code",
   "execution_count": null,
   "metadata": {},
   "outputs": [
    {
     "name": "stdout",
     "output_type": "stream",
     "text": [
      "6.5\n"
     ]
    }
   ],
   "source": [
    "def average(*numbers):\n",
    "    sum=0\n",
    "    for i in numbers:\n",
    "        sum=sum+i\n",
    "    return sum/len(numbers)\n",
    "\n",
    "c=average(5,6,7,8)\n",
    "print(c)"
   ]
  },
  {
   "cell_type": "markdown",
   "metadata": {},
   "source": [
    "#list"
   ]
  },
  {
   "cell_type": "code",
   "execution_count": null,
   "metadata": {},
   "outputs": [
    {
     "name": "stdout",
     "output_type": "stream",
     "text": [
      "[3, 5, 6, 7, 'shreyansh']\n",
      "3\n",
      "5\n",
      "[3, 5, 6, 7, 'shreyansh', 10]\n",
      "shreyansh\n",
      "yes\n",
      "yes\n",
      "[3, 5, 6, 7, 'shreyansh', 10]\n"
     ]
    }
   ],
   "source": [
    "l=[3,5,6,7,\"shreyansh\"]\n",
    "print(l)\n",
    "type(l)\n",
    "print(l[0])\n",
    "print(l[1])\n",
    "l.append(10)\n",
    "print(l)\n",
    "print(l[-2])\n",
    "if 7 in l:\n",
    "    print(\"yes\")\n",
    "else:\n",
    "    print(\"no\")\n",
    "    \n",
    "    \n",
    "if 'hre' in 'shreyansh':\n",
    "    print(\"yes\")\n",
    "    \n",
    "print(l[0:len(l)])"
   ]
  },
  {
   "cell_type": "markdown",
   "metadata": {},
   "source": [
    "#lsit comprehension"
   ]
  },
  {
   "cell_type": "code",
   "execution_count": null,
   "metadata": {},
   "outputs": [
    {
     "name": "stdout",
     "output_type": "stream",
     "text": [
      "[0, 4, 16, 36, 64]\n"
     ]
    }
   ],
   "source": [
    "list=[i*i for i in range(10) if i%2==0]\n",
    "print(list)"
   ]
  },
  {
   "cell_type": "code",
   "execution_count": null,
   "metadata": {},
   "outputs": [
    {
     "name": "stdout",
     "output_type": "stream",
     "text": [
      "[92, 81, 77, 73, 23, 11, 7, 2]\n"
     ]
    }
   ],
   "source": [
    "list1=[2,7,73,77,92,81,11,23]\n",
    "list1.sort(reverse=True)   #reversing order important for decreasing order\n",
    "print(list1)"
   ]
  },
  {
   "cell_type": "code",
   "execution_count": null,
   "metadata": {},
   "outputs": [
    {
     "name": "stdout",
     "output_type": "stream",
     "text": [
      "[23, 11, 81, 92, 77, 73, 7, 2]\n"
     ]
    }
   ],
   "source": [
    "\n",
    "list1=[2,7,73,77,92,81,11,23]\n",
    "list1.reverse()\n",
    "print(list1)"
   ]
  },
  {
   "cell_type": "code",
   "execution_count": 9,
   "metadata": {},
   "outputs": [
    {
     "ename": "NameError",
     "evalue": "name 'list1' is not defined",
     "output_type": "error",
     "traceback": [
      "\u001b[1;31m---------------------------------------------------------------------------\u001b[0m",
      "\u001b[1;31mNameError\u001b[0m                                 Traceback (most recent call last)",
      "Cell \u001b[1;32mIn[9], line 1\u001b[0m\n\u001b[1;32m----> 1\u001b[0m \u001b[38;5;28mprint\u001b[39m(\u001b[43mlist1\u001b[49m\u001b[38;5;241m.\u001b[39mindex(\u001b[38;5;241m2\u001b[39m))\n",
      "\u001b[1;31mNameError\u001b[0m: name 'list1' is not defined"
     ]
    }
   ],
   "source": [
    "print(list1.index(2))\n"
   ]
  },
  {
   "cell_type": "code",
   "execution_count": null,
   "metadata": {},
   "outputs": [
    {
     "name": "stdout",
     "output_type": "stream",
     "text": [
      "1\n"
     ]
    }
   ],
   "source": [
    "print(list1.count(73))"
   ]
  },
  {
   "cell_type": "code",
   "execution_count": null,
   "metadata": {},
   "outputs": [
    {
     "name": "stdout",
     "output_type": "stream",
     "text": [
      "[0, 11, 81, 92, 77, 73, 7, 2]\n"
     ]
    }
   ],
   "source": [
    "m=list1.copy()\n",
    "m[0]=0\n",
    "print(m)"
   ]
  },
  {
   "cell_type": "code",
   "execution_count": null,
   "metadata": {},
   "outputs": [
    {
     "name": "stdout",
     "output_type": "stream",
     "text": [
      "[0, 666, 11, 81, 92, 77, 73, 7, 2]\n"
     ]
    }
   ],
   "source": [
    "list1.insert(1,666)\n",
    "print(list1)"
   ]
  },
  {
   "cell_type": "code",
   "execution_count": null,
   "metadata": {},
   "outputs": [
    {
     "name": "stdout",
     "output_type": "stream",
     "text": [
      "[0, 666, 11, 81, 92, 77, 73, 7, 2, 99, 100, 101]\n"
     ]
    }
   ],
   "source": [
    "m=[99,100,101]\n",
    "list1.extend(m)\n",
    "print(list1)"
   ]
  },
  {
   "cell_type": "markdown",
   "metadata": {},
   "source": [
    "#Dictionary"
   ]
  },
  {
   "cell_type": "code",
   "execution_count": null,
   "metadata": {},
   "outputs": [
    {
     "name": "stdout",
     "output_type": "stream",
     "text": [
      "{'name': 'Dewansh', 'age': 22, 'gender': 'female'}\n",
      "22\n",
      "female\n",
      "dict_keys(['name', 'age', 'gender'])\n",
      "dict_values(['Dewansh', 22, 'female'])\n",
      "Dewansh\n",
      "22\n",
      "female\n"
     ]
    }
   ],
   "source": [
    "dic={\"name\":\"Dewansh\", \"age\":22,\"gender\":\"male\"}\n",
    "print(dic)\n",
    "print(dic['age'])\n",
    "print(dic.get('gender'))\n",
    "print(dic.keys())\n",
    "print(dic.values())\n",
    "\n",
    "for key in dic.keys():\n",
    "    print(dic[key])"
   ]
  },
  {
   "cell_type": "code",
   "execution_count": 5,
   "metadata": {},
   "outputs": [
    {
     "ename": "NameError",
     "evalue": "name 'dic' is not defined",
     "output_type": "error",
     "traceback": [
      "\u001b[1;31m---------------------------------------------------------------------------\u001b[0m",
      "\u001b[1;31mNameError\u001b[0m                                 Traceback (most recent call last)",
      "Cell \u001b[1;32mIn[5], line 1\u001b[0m\n\u001b[1;32m----> 1\u001b[0m \u001b[38;5;28mprint\u001b[39m(\u001b[43mdic\u001b[49m\u001b[38;5;241m.\u001b[39mitems())\n",
      "\u001b[1;31mNameError\u001b[0m: name 'dic' is not defined"
     ]
    }
   ],
   "source": [
    "print(dic.items())"
   ]
  },
  {
   "cell_type": "code",
   "execution_count": 15,
   "metadata": {},
   "outputs": [
    {
     "name": "stdout",
     "output_type": "stream",
     "text": [
      "{'name': 'Dewansh', 'age': 22, 'gender': 'male', 61: 'shivansh', 'agee': 24, 'geender': 'male'}\n",
      "{'name': 'Dewansh', 'age': 22, 'gender': 'male', 61: 'shivansh', 'agee': 24, 'geender': 'male', 60: 'Devash', 'aage': 23, 'geeender': 'male'}\n"
     ]
    },
    {
     "data": {
      "text/plain": [
       "('geeender', 'male')"
      ]
     },
     "execution_count": 15,
     "metadata": {},
     "output_type": "execute_result"
    }
   ],
   "source": [
    "dic1={\"name\":\"Dewansh\", \"age\":22,\"gender\":\"male\"}\n",
    "dic2={61:\"shivansh\", \"agee\":24,\"geender\":\"male\"}\n",
    "dic3={60:\"Devash\", \"aage\":23,\"geeender\":\"male\"}\n",
    "dic1.update(dic2)\n",
    "print(dic1)\n",
    "dic1.update(dic3)\n",
    "print(dic1)\n",
    "dic3.pop(60)\n",
    "dic3.popitem()\n"
   ]
  },
  {
   "cell_type": "code",
   "execution_count": 17,
   "metadata": {},
   "outputs": [
    {
     "ename": "KeyError",
     "evalue": "'age'",
     "output_type": "error",
     "traceback": [
      "\u001b[1;31m---------------------------------------------------------------------------\u001b[0m",
      "\u001b[1;31mKeyError\u001b[0m                                  Traceback (most recent call last)",
      "Cell \u001b[1;32mIn[17], line 1\u001b[0m\n\u001b[1;32m----> 1\u001b[0m \u001b[38;5;28;01mdel\u001b[39;00m \u001b[43mdic1\u001b[49m\u001b[43m[\u001b[49m\u001b[38;5;124;43m\"\u001b[39;49m\u001b[38;5;124;43mage\u001b[39;49m\u001b[38;5;124;43m\"\u001b[39;49m\u001b[43m]\u001b[49m\n\u001b[0;32m      2\u001b[0m \u001b[38;5;28mprint\u001b[39m(dic1)\n",
      "\u001b[1;31mKeyError\u001b[0m: 'age'"
     ]
    }
   ],
   "source": [
    "del dic1[\"age\"]\n",
    "print(dic1)"
   ]
  },
  {
   "cell_type": "code",
   "execution_count": null,
   "metadata": {},
   "outputs": [],
   "source": [
    "computer=-1 0 1"
   ]
  }
 ],
 "metadata": {
  "kernelspec": {
   "display_name": "Python 3",
   "language": "python",
   "name": "python3"
  },
  "language_info": {
   "codemirror_mode": {
    "name": "ipython",
    "version": 3
   },
   "file_extension": ".py",
   "mimetype": "text/x-python",
   "name": "python",
   "nbconvert_exporter": "python",
   "pygments_lexer": "ipython3",
   "version": "3.12.2"
  }
 },
 "nbformat": 4,
 "nbformat_minor": 2
}
